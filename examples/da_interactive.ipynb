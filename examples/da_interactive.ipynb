{
 "cells": [
  {
   "cell_type": "markdown",
   "metadata": {},
   "source": [
    "Test running sixdb in Python3 interactively"
   ]
  },
  {
   "cell_type": "code",
   "execution_count": null,
   "metadata": {},
   "outputs": [],
   "source": [
    "# In case there is a bug with auto completion of paths, temp bugfix according to\n",
    "# https://github.com/ipython/ipykernel/issues/299\n",
    "%config Completer.use_jedi=False \n",
    "\n",
    "# add location of SixDeskDB for Python 3+ to module search path\n",
    "import sys\n",
    "# (example) set path to your sixdeskdb folder\n",
    "sys.path.append(\"/afs/cern.ch/work/m/mtitze/hl-lhc/git/SixDeskDB/\") \n",
    "\n",
    "import sixdeskdb as sdb\n",
    "\n",
    "%config InlineBackend.figure_format = 'retina'  # sharp plots"
   ]
  },
  {
   "cell_type": "code",
   "execution_count": null,
   "metadata": {},
   "outputs": [],
   "source": [
    "# to update functions if they are modified externally\n",
    "%load_ext autoreload\n",
    "%autoreload 2"
   ]
  },
  {
   "cell_type": "code",
   "execution_count": null,
   "metadata": {},
   "outputs": [],
   "source": [
    "# set a name for the sixdesk SQL database to be analyzed.\n",
    "study_name = '/afs/cern.ch/work/m/mtitze/hl-lhc/testbed/test_study/lhc_b1_inj_2016_qp_14_ioct_20_emit_3.57_2.87.db'\n",
    "#study_name = '/afs/cern.ch/work/m/mtitze/hl-lhc/testbed/test_study/lhc_b1_inj_2016_qp_14_ioct_20_emit_3.57_2.87_original.db'"
   ]
  },
  {
   "cell_type": "code",
   "execution_count": null,
   "metadata": {},
   "outputs": [],
   "source": [
    "study_database = sdb.SixDeskDB(dbname=study_name)"
   ]
  },
  {
   "cell_type": "code",
   "execution_count": null,
   "metadata": {},
   "outputs": [],
   "source": [
    "study_database.inspect_results()"
   ]
  },
  {
   "cell_type": "code",
   "execution_count": null,
   "metadata": {},
   "outputs": [],
   "source": [
    "study_database.plot_survival_2d(seed=3)"
   ]
  },
  {
   "cell_type": "markdown",
   "metadata": {},
   "source": [
    "### new method"
   ]
  },
  {
   "cell_type": "code",
   "execution_count": null,
   "metadata": {},
   "outputs": [],
   "source": [
    "# run sixdesk with a set of unequal emittances\n",
    "emittances_x = [1.11, 1.53]\n",
    "emittances_y = [3.48, 2.71, 2.42]\n",
    "\n",
    "emittances_x = [3.57]\n",
    "emittances_y = [2.87]\n",
    "\n",
    "method = 1\n",
    "\n",
    "sdb.RunDaVsTurns_ue(study_database, turnstep=100, emitx=emittances_x, emity=emittances_y, method=method)"
   ]
  },
  {
   "cell_type": "markdown",
   "metadata": {},
   "source": [
    "### old method"
   ]
  },
  {
   "cell_type": "code",
   "execution_count": null,
   "metadata": {},
   "outputs": [],
   "source": [
    "# check if da table exists in database. In case of problems, remove table da_vst\n",
    "# in SQL database (e.g. with the script below)\n",
    "study_database.check_table('da_vst')"
   ]
  },
  {
   "cell_type": "code",
   "execution_count": null,
   "metadata": {},
   "outputs": [],
   "source": [
    "# run original sixdesk with a set of unequal emittances as countercheck. \n",
    "emittances_x = [3.57]\n",
    "emittances_y = [2.87]\n",
    "\n",
    "# define default values\n",
    "force      = True # set to true to check calculation speed\n",
    "turnstep   = 100\n",
    "outfile    = False\n",
    "outfileold = False\n",
    "outfilefit = False\n",
    "davstfit   = False\n",
    "fitdat     = 'dawsimp'\n",
    "fitdaterr  = 'dawsimperr'\n",
    "fitndrop   = 25\n",
    "fitskap    = -5.0\n",
    "fitekap    = 5.0\n",
    "fitdkap    = 0.01\n",
    "     \n",
    "\n",
    "turnstep= 100\n",
    "\n",
    "outfile=True\n",
    "outfileold=True \n",
    "outfilefit=True\n",
    "   \n",
    "davstfit=False # True may lead to a problem\n",
    "\n",
    "sdb.RunDaVsTurns(study_database ,force, outfile, outfileold, turnstep, davstfit, fitdat, fitdaterr,\n",
    "                    fitndrop, fitskap, fitekap, fitdkap, outfilefit, emitx=emittances_x[0], emity=emittances_y[0])"
   ]
  },
  {
   "cell_type": "code",
   "execution_count": null,
   "metadata": {},
   "outputs": [],
   "source": [
    "# if necessary, drop tables\n",
    "import itertools\n",
    "\n",
    "import sqlite3\n",
    "\n",
    "def drop_from_sql_database(filename, remove=['da_vst', 'fit_parameters'], verbose=True):\n",
    "    '''\n",
    "    This is a temporarily solution. We can remove tables from a sixdesk database\n",
    "    in order to force/ensure that the values are re-computed if there is a change.\n",
    "    '''\n",
    "    if verbose:\n",
    "        print ('Dropping {} from SQL database\\n {}'.format(remove, filename))\n",
    "    \n",
    "    connection = sqlite3.connect(filename)\n",
    "    cursor = connection.cursor()\n",
    "    for table_name in remove:\n",
    "        try:\n",
    "            cursor.execute(\"DROP TABLE {}\".format(table_name))\n",
    "        except:\n",
    "            print ('Problem with table {}'.format(table_name))\n",
    "            continue\n",
    "    connection.close()"
   ]
  },
  {
   "cell_type": "code",
   "execution_count": null,
   "metadata": {},
   "outputs": [],
   "source": [
    "#to_remove = []\n",
    "#for ex, ey in itertools.product(emittances_x, emittances_y):\n",
    "#    to_remove.append('da_vst_{}_{}'.format(ex, ey).replace('.', ''))\n",
    "\n",
    "#drop_from_sql_database(study_name, remove=to_remove)\n",
    "drop_from_sql_database(study_name)"
   ]
  },
  {
   "cell_type": "code",
   "execution_count": null,
   "metadata": {},
   "outputs": [],
   "source": []
  }
 ],
 "metadata": {
  "kernelspec": {
   "display_name": "Python 3",
   "language": "python",
   "name": "python3"
  },
  "language_info": {
   "codemirror_mode": {
    "name": "ipython",
    "version": 3
   },
   "file_extension": ".py",
   "mimetype": "text/x-python",
   "name": "python",
   "nbconvert_exporter": "python",
   "pygments_lexer": "ipython3",
   "version": "3.6.8"
  }
 },
 "nbformat": 4,
 "nbformat_minor": 2
}
