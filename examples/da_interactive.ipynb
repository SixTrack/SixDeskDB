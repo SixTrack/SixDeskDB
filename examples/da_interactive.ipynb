{
 "cells": [
  {
   "cell_type": "markdown",
   "metadata": {},
   "source": [
    "Test running sixdb in Python3 interactively"
   ]
  },
  {
   "cell_type": "code",
   "execution_count": null,
   "metadata": {},
   "outputs": [],
   "source": [
    "# In case there is a bug with auto completion of paths, temp bugfix according to\n",
    "# https://github.com/ipython/ipykernel/issues/299\n",
    "%config Completer.use_jedi=False \n",
    "\n",
    "# add location of SixDeskDB for Python 3+ to module search path\n",
    "import sys\n",
    "# (example) set path to your sixdeskdb folder\n",
    "sys.path.append(\"/afs/cern.ch/work/m/mtitze/hl-lhc/git/SixDeskDB/\") \n",
    "\n",
    "import sixdb"
   ]
  },
  {
   "cell_type": "code",
   "execution_count": null,
   "metadata": {},
   "outputs": [],
   "source": [
    "# to update functions if they are modified externally\n",
    "%load_ext autoreload\n",
    "%autoreload 2"
   ]
  },
  {
   "cell_type": "code",
   "execution_count": null,
   "metadata": {},
   "outputs": [],
   "source": [
    "# run sixdesk with a set of unequal emittances\n",
    "emittances_x = [1.11, 1.53]\n",
    "emittances_y = [3.48, 2.71, 2.42]\n",
    "\n",
    "emittances_x = [3.57]\n",
    "emittances_y = [2.87]\n",
    "\n",
    "w = sixdb.SixDB(['', '-emit', emittances_x, emittances_y])"
   ]
  },
  {
   "cell_type": "code",
   "execution_count": null,
   "metadata": {},
   "outputs": [],
   "source": [
    "# set a name for the sixdesk SQL database to be analyzed.\n",
    "study_name = '/afs/cern.ch/work/m/mtitze/hl-lhc/testbed/test_study/lhc_b1_inj_2016_qp_14_ioct_20_emit_3.57_2.87.db'\n",
    "#study_name = '/afs/cern.ch/work/m/mtitze/hl-lhc/testbed/lhc_b1_inj_2016_qp_0_ioct_40_emit_2.00_1.66_old.db'"
   ]
  },
  {
   "cell_type": "code",
   "execution_count": null,
   "metadata": {},
   "outputs": [],
   "source": [
    "w.da_method = 1  # 0: slow loop of slightly modified original code, 1: fast loop. Method 0 currently generates seperate\n",
    "# tables if there is more than one emittance pair.\n",
    "w.da_vs_turns(study=study_name)"
   ]
  },
  {
   "cell_type": "code",
   "execution_count": null,
   "metadata": {},
   "outputs": [],
   "source": [
    "# if necessary, drop tables\n",
    "import itertools\n",
    "\n",
    "import sqlite3\n",
    "\n",
    "def drop_from_sql_database(filename, remove=['da_vst', 'fit_parameters'], verbose=True):\n",
    "    '''\n",
    "    This is a temporarily solution. We can remove tables from a sixdesk database\n",
    "    in order to force/ensure that the values are re-computed if there is a change.\n",
    "    '''\n",
    "    if verbose:\n",
    "        print ('Dropping {} from SQL database\\n {}'.format(remove, filename))\n",
    "    \n",
    "    connection = sqlite3.connect(filename)\n",
    "    cursor = connection.cursor()\n",
    "    for table_name in remove:\n",
    "        try:\n",
    "            cursor.execute(\"DROP TABLE {}\".format(table_name))\n",
    "        except:\n",
    "            # it might be that there is no such table etc.\n",
    "            pass\n",
    "    connection.close()"
   ]
  },
  {
   "cell_type": "code",
   "execution_count": null,
   "metadata": {},
   "outputs": [],
   "source": [
    "to_remove = []\n",
    "for ex, ey in itertools.product(emittances_x, emittances_y):\n",
    "    to_remove.append('da_vst_{}_{}'.format(ex, ey).replace('.', ''))\n",
    "\n",
    "#drop_from_sql_database(study_name, remove=to_remove)\n",
    "drop_from_sql_database(study_name)"
   ]
  },
  {
   "cell_type": "code",
   "execution_count": null,
   "metadata": {},
   "outputs": [],
   "source": []
  }
 ],
 "metadata": {
  "kernelspec": {
   "display_name": "Python 3",
   "language": "python",
   "name": "python3"
  },
  "language_info": {
   "codemirror_mode": {
    "name": "ipython",
    "version": 3
   },
   "file_extension": ".py",
   "mimetype": "text/x-python",
   "name": "python",
   "nbconvert_exporter": "python",
   "pygments_lexer": "ipython3",
   "version": "3.6.8"
  }
 },
 "nbformat": 4,
 "nbformat_minor": 2
}
